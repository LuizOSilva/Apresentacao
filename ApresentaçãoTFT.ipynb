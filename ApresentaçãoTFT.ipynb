{
  "nbformat": 4,
  "nbformat_minor": 0,
  "metadata": {
    "colab": {
      "name": "Untitled7.ipynb",
      "provenance": []
    },
    "kernelspec": {
      "name": "python3",
      "display_name": "Python 3"
    }
  },
  "cells": [
    {
      "cell_type": "code",
      "metadata": {
        "id": "u_H5P6VLqQAh",
        "colab_type": "code",
        "colab": {}
      },
      "source": [
        "import pandas as pd\n",
        "import matplotlib.pyplot as plt\n",
        "import seaborn as sns"
      ],
      "execution_count": 0,
      "outputs": []
    },
    {
      "cell_type": "code",
      "metadata": {
        "id": "rjt8bS1pqcwP",
        "colab_type": "code",
        "outputId": "4ce7f5d6-50ed-415f-f999-b9a5ee85d152",
        "colab": {
          "base_uri": "https://localhost:8080/",
          "height": 204
        }
      },
      "source": [
        "tft = pd.read_csv(\"tft_database.csv\")\n",
        "tft.head()"
      ],
      "execution_count": 43,
      "outputs": [
        {
          "output_type": "execute_result",
          "data": {
            "text/html": [
              "<div>\n",
              "<style scoped>\n",
              "    .dataframe tbody tr th:only-of-type {\n",
              "        vertical-align: middle;\n",
              "    }\n",
              "\n",
              "    .dataframe tbody tr th {\n",
              "        vertical-align: top;\n",
              "    }\n",
              "\n",
              "    .dataframe thead th {\n",
              "        text-align: right;\n",
              "    }\n",
              "</style>\n",
              "<table border=\"1\" class=\"dataframe\">\n",
              "  <thead>\n",
              "    <tr style=\"text-align: right;\">\n",
              "      <th></th>\n",
              "      <th>Champion</th>\n",
              "      <th>Origin</th>\n",
              "      <th>Class</th>\n",
              "      <th>Class2</th>\n",
              "      <th>Cost</th>\n",
              "      <th>DamagePerSecond</th>\n",
              "      <th>AttackSpeed</th>\n",
              "      <th>Damage</th>\n",
              "      <th>HP</th>\n",
              "      <th>Mana</th>\n",
              "      <th>Armor</th>\n",
              "      <th>MagicResist</th>\n",
              "    </tr>\n",
              "  </thead>\n",
              "  <tbody>\n",
              "    <tr>\n",
              "      <th>0</th>\n",
              "      <td>Aatrox</td>\n",
              "      <td>Demon</td>\n",
              "      <td>Blademaster</td>\n",
              "      <td>NaN</td>\n",
              "      <td>3.0</td>\n",
              "      <td>42</td>\n",
              "      <td>0.65</td>\n",
              "      <td>65</td>\n",
              "      <td>700</td>\n",
              "      <td>75</td>\n",
              "      <td>25</td>\n",
              "      <td>20</td>\n",
              "    </tr>\n",
              "    <tr>\n",
              "      <th>1</th>\n",
              "      <td>Ahri</td>\n",
              "      <td>Wild</td>\n",
              "      <td>Sorcerer</td>\n",
              "      <td>NaN</td>\n",
              "      <td>2.0</td>\n",
              "      <td>28</td>\n",
              "      <td>0.55</td>\n",
              "      <td>50</td>\n",
              "      <td>450</td>\n",
              "      <td>75</td>\n",
              "      <td>20</td>\n",
              "      <td>20</td>\n",
              "    </tr>\n",
              "    <tr>\n",
              "      <th>2</th>\n",
              "      <td>Akali</td>\n",
              "      <td>Ninja</td>\n",
              "      <td>Assassin</td>\n",
              "      <td>NaN</td>\n",
              "      <td>4.0</td>\n",
              "      <td>49</td>\n",
              "      <td>0.70</td>\n",
              "      <td>70</td>\n",
              "      <td>650</td>\n",
              "      <td>25</td>\n",
              "      <td>20</td>\n",
              "      <td>20</td>\n",
              "    </tr>\n",
              "    <tr>\n",
              "      <th>3</th>\n",
              "      <td>Anivia</td>\n",
              "      <td>Glacial</td>\n",
              "      <td>Elementalist</td>\n",
              "      <td>NaN</td>\n",
              "      <td>5.0</td>\n",
              "      <td>24</td>\n",
              "      <td>0.60</td>\n",
              "      <td>40</td>\n",
              "      <td>650</td>\n",
              "      <td>100</td>\n",
              "      <td>20</td>\n",
              "      <td>20</td>\n",
              "    </tr>\n",
              "    <tr>\n",
              "      <th>4</th>\n",
              "      <td>Ashe</td>\n",
              "      <td>Glacial</td>\n",
              "      <td>Elementalist</td>\n",
              "      <td>NaN</td>\n",
              "      <td>3.0</td>\n",
              "      <td>46</td>\n",
              "      <td>0.70</td>\n",
              "      <td>65</td>\n",
              "      <td>550</td>\n",
              "      <td>100</td>\n",
              "      <td>20</td>\n",
              "      <td>20</td>\n",
              "    </tr>\n",
              "  </tbody>\n",
              "</table>\n",
              "</div>"
            ],
            "text/plain": [
              "  Champion    Origin         Class Class2  ...   HP  Mana  Armor  MagicResist\n",
              "0   Aatrox     Demon   Blademaster    NaN  ...  700    75     25           20\n",
              "1     Ahri      Wild      Sorcerer    NaN  ...  450    75     20           20\n",
              "2    Akali     Ninja      Assassin    NaN  ...  650    25     20           20\n",
              "3   Anivia  Glacial   Elementalist    NaN  ...  650   100     20           20\n",
              "4     Ashe  Glacial   Elementalist    NaN  ...  550   100     20           20\n",
              "\n",
              "[5 rows x 12 columns]"
            ]
          },
          "metadata": {
            "tags": []
          },
          "execution_count": 43
        }
      ]
    },
    {
      "cell_type": "code",
      "metadata": {
        "id": "O7YtPvFf5DXF",
        "colab_type": "code",
        "outputId": "4a7da839-df82-4cb0-e1d4-edb00d9cd6ec",
        "colab": {
          "base_uri": "https://localhost:8080/",
          "height": 102
        }
      },
      "source": [
        "tft.Class.describe()"
      ],
      "execution_count": 44,
      "outputs": [
        {
          "output_type": "execute_result",
          "data": {
            "text/plain": [
              "count           51\n",
              "unique          12\n",
              "top       Assassin\n",
              "freq             7\n",
              "Name: Class, dtype: object"
            ]
          },
          "metadata": {
            "tags": []
          },
          "execution_count": 44
        }
      ]
    },
    {
      "cell_type": "code",
      "metadata": {
        "id": "4cr29CY85ekj",
        "colab_type": "code",
        "outputId": "7223e0be-4514-480f-aac4-721a004e8a44",
        "colab": {
          "base_uri": "https://localhost:8080/",
          "height": 288
        }
      },
      "source": [
        "tft.Cost.value_counts().plot.bar()"
      ],
      "execution_count": 45,
      "outputs": [
        {
          "output_type": "execute_result",
          "data": {
            "text/plain": [
              "<matplotlib.axes._subplots.AxesSubplot at 0x7f7e85d196a0>"
            ]
          },
          "metadata": {
            "tags": []
          },
          "execution_count": 45
        },
        {
          "output_type": "display_data",
          "data": {
            "image/png": "[encoded data removed]",
            "text/plain": [
              "<Figure size 432x288 with 1 Axes>"
            ]
          },
          "metadata": {
            "tags": [],
            "needs_background": "light"
          }
        }
      ]
    },
    {
      "cell_type": "markdown",
      "metadata": {
        "id": "LBSDUtM3ui9M",
        "colab_type": "text"
      },
      "source": [
        "#Gráficos do seaborn"
      ]
    },
    {
      "cell_type": "code",
      "metadata": {
        "id": "yDRpGN_2uq7k",
        "colab_type": "code",
        "outputId": "1b1c424e-cc04-43f1-8f87-28f0cdb9179c",
        "colab": {
          "base_uri": "https://localhost:8080/",
          "height": 299
        }
      },
      "source": [
        "sns.countplot(x='Armor', data=tft)"
      ],
      "execution_count": 46,
      "outputs": [
        {
          "output_type": "execute_result",
          "data": {
            "text/plain": [
              "<matplotlib.axes._subplots.AxesSubplot at 0x7f7e8a522438>"
            ]
          },
          "metadata": {
            "tags": []
          },
          "execution_count": 46
        },
        {
          "output_type": "display_data",
          "data": {
            "image/png": "[encoded data removed]",
            "text/plain": [
              "<Figure size 432x288 with 1 Axes>"
            ]
          },
          "metadata": {
            "tags": [],
            "needs_background": "light"
          }
        }
      ]
    },
    {
      "cell_type": "code",
      "metadata": {
        "id": "UBEOsprQ2mVL",
        "colab_type": "code",
        "outputId": "a79b0168-efe6-4dc4-c746-d7a44d1dd2ca",
        "colab": {
          "base_uri": "https://localhost:8080/",
          "height": 296
        }
      },
      "source": [
        "sns.countplot(x='Damage', data=tft)"
      ],
      "execution_count": 47,
      "outputs": [
        {
          "output_type": "execute_result",
          "data": {
            "text/plain": [
              "<matplotlib.axes._subplots.AxesSubplot at 0x7f7e85bf92e8>"
            ]
          },
          "metadata": {
            "tags": []
          },
          "execution_count": 47
        },
        {
          "output_type": "display_data",
          "data": {
            "image/png": "[encoded data removed]",
            "text/plain": [
              "<Figure size 432x288 with 1 Axes>"
            ]
          },
          "metadata": {
            "tags": [],
            "needs_background": "light"
          }
        }
      ]
    },
    {
      "cell_type": "code",
      "metadata": {
        "id": "z9G-0L8N25iU",
        "colab_type": "code",
        "outputId": "3998f3e8-08f8-4019-b631-57a70a268d12",
        "colab": {
          "base_uri": "https://localhost:8080/",
          "height": 296
        }
      },
      "source": [
        "sns.countplot(x='DamagePerSecond', data=tft)"
      ],
      "execution_count": 48,
      "outputs": [
        {
          "output_type": "execute_result",
          "data": {
            "text/plain": [
              "<matplotlib.axes._subplots.AxesSubplot at 0x7f7e85d14c50>"
            ]
          },
          "metadata": {
            "tags": []
          },
          "execution_count": 48
        },
        {
          "output_type": "display_data",
          "data": {
            "image/png": "[encoded data removed]",
            "text/plain": [
              "<Figure size 432x288 with 1 Axes>"
            ]
          },
          "metadata": {
            "tags": [],
            "needs_background": "light"
          }
        }
      ]
    },
    {
      "cell_type": "code",
      "metadata": {
        "id": "OQLjParVvMC-",
        "colab_type": "code",
        "outputId": "be226e10-fcd4-43b7-9324-8c7642c7a62f",
        "colab": {
          "base_uri": "https://localhost:8080/",
          "height": 330
        }
      },
      "source": [
        "sns.factorplot(x='HP', col='Cost', kind= 'count', data=tft)"
      ],
      "execution_count": 49,
      "outputs": [
        {
          "output_type": "stream",
          "text": [
            "/usr/local/lib/python3.6/dist-packages/seaborn/categorical.py:3666: UserWarning: The `factorplot` function has been renamed to `catplot`. The original name will be removed in a future release. Please update your code. Note that the default `kind` in `factorplot` (`'point'`) has changed `'strip'` in `catplot`.\n",
            "  warnings.warn(msg)\n"
          ],
          "name": "stderr"
        },
        {
          "output_type": "execute_result",
          "data": {
            "text/plain": [
              "<seaborn.axisgrid.FacetGrid at 0x7f7e85b6abe0>"
            ]
          },
          "metadata": {
            "tags": []
          },
          "execution_count": 49
        },
        {
          "output_type": "display_data",
          "data": {
            "image/png": "[encoded data removed]",
            "text/plain": [
              "<Figure size 1800x360 with 5 Axes>"
            ]
          },
          "metadata": {
            "tags": [],
            "needs_background": "light"
          }
        }
      ]
    },
    {
      "cell_type": "code",
      "metadata": {
        "id": "HwnfYItI2eXA",
        "colab_type": "code",
        "outputId": "abddc279-c8f3-426a-e5f2-17bf785a04e9",
        "colab": {
          "base_uri": "https://localhost:8080/",
          "height": 330
        }
      },
      "source": [
        "sns.factorplot(x='Damage', col='Cost', kind= 'count', data=tft)"
      ],
      "execution_count": 50,
      "outputs": [
        {
          "output_type": "stream",
          "text": [
            "/usr/local/lib/python3.6/dist-packages/seaborn/categorical.py:3666: UserWarning: The `factorplot` function has been renamed to `catplot`. The original name will be removed in a future release. Please update your code. Note that the default `kind` in `factorplot` (`'point'`) has changed `'strip'` in `catplot`.\n",
            "  warnings.warn(msg)\n"
          ],
          "name": "stderr"
        },
        {
          "output_type": "execute_result",
          "data": {
            "text/plain": [
              "<seaborn.axisgrid.FacetGrid at 0x7f7e858f50f0>"
            ]
          },
          "metadata": {
            "tags": []
          },
          "execution_count": 50
        },
        {
          "output_type": "display_data",
          "data": {
            "image/png": "[encoded data removed]",
            "text/plain": [
              "<Figure size 1800x360 with 5 Axes>"
            ]
          },
          "metadata": {
            "tags": [],
            "needs_background": "light"
          }
        }
      ]
    },
    {
      "cell_type": "code",
      "metadata": {
        "id": "1E6wbfZ23EBL",
        "colab_type": "code",
        "outputId": "a76ce482-9b3c-4335-8966-b069f595e1ad",
        "colab": {
          "base_uri": "https://localhost:8080/",
          "height": 266
        }
      },
      "source": [
        "df_class = tft[tft.Class=='Sorcerer']\n",
        "df_class"
      ],
      "execution_count": 51,
      "outputs": [
        {
          "output_type": "execute_result",
          "data": {
            "text/html": [
              "<div>\n",
              "<style scoped>\n",
              "    .dataframe tbody tr th:only-of-type {\n",
              "        vertical-align: middle;\n",
              "    }\n",
              "\n",
              "    .dataframe tbody tr th {\n",
              "        vertical-align: top;\n",
              "    }\n",
              "\n",
              "    .dataframe thead th {\n",
              "        text-align: right;\n",
              "    }\n",
              "</style>\n",
              "<table border=\"1\" class=\"dataframe\">\n",
              "  <thead>\n",
              "    <tr style=\"text-align: right;\">\n",
              "      <th></th>\n",
              "      <th>Champion</th>\n",
              "      <th>Origin</th>\n",
              "      <th>Class</th>\n",
              "      <th>Class2</th>\n",
              "      <th>Cost</th>\n",
              "      <th>DamagePerSecond</th>\n",
              "      <th>AttackSpeed</th>\n",
              "      <th>Damage</th>\n",
              "      <th>HP</th>\n",
              "      <th>Mana</th>\n",
              "      <th>Armor</th>\n",
              "      <th>MagicResist</th>\n",
              "    </tr>\n",
              "  </thead>\n",
              "  <tbody>\n",
              "    <tr>\n",
              "      <th>1</th>\n",
              "      <td>Ahri</td>\n",
              "      <td>Wild</td>\n",
              "      <td>Sorcerer</td>\n",
              "      <td>NaN</td>\n",
              "      <td>2.0</td>\n",
              "      <td>28</td>\n",
              "      <td>0.55</td>\n",
              "      <td>50</td>\n",
              "      <td>450</td>\n",
              "      <td>75</td>\n",
              "      <td>20</td>\n",
              "      <td>20</td>\n",
              "    </tr>\n",
              "    <tr>\n",
              "      <th>19</th>\n",
              "      <td>Karthus</td>\n",
              "      <td>Phantom</td>\n",
              "      <td>Sorcerer</td>\n",
              "      <td>NaN</td>\n",
              "      <td>5.0</td>\n",
              "      <td>42</td>\n",
              "      <td>0.65</td>\n",
              "      <td>65</td>\n",
              "      <td>850</td>\n",
              "      <td>85</td>\n",
              "      <td>25</td>\n",
              "      <td>20</td>\n",
              "    </tr>\n",
              "    <tr>\n",
              "      <th>20</th>\n",
              "      <td>Kassadin</td>\n",
              "      <td>Void</td>\n",
              "      <td>Sorcerer</td>\n",
              "      <td>NaN</td>\n",
              "      <td>1.0</td>\n",
              "      <td>33</td>\n",
              "      <td>0.60</td>\n",
              "      <td>55</td>\n",
              "      <td>550</td>\n",
              "      <td>0</td>\n",
              "      <td>25</td>\n",
              "      <td>20</td>\n",
              "    </tr>\n",
              "    <tr>\n",
              "      <th>29</th>\n",
              "      <td>Lulu</td>\n",
              "      <td>Yordle</td>\n",
              "      <td>Sorcerer</td>\n",
              "      <td>NaN</td>\n",
              "      <td>2.0</td>\n",
              "      <td>30</td>\n",
              "      <td>0.60</td>\n",
              "      <td>50</td>\n",
              "      <td>500</td>\n",
              "      <td>150</td>\n",
              "      <td>20</td>\n",
              "      <td>20</td>\n",
              "    </tr>\n",
              "    <tr>\n",
              "      <th>32</th>\n",
              "      <td>Morgana</td>\n",
              "      <td>Demon</td>\n",
              "      <td>Sorcerer</td>\n",
              "      <td>NaN</td>\n",
              "      <td>3.0</td>\n",
              "      <td>30</td>\n",
              "      <td>0.60</td>\n",
              "      <td>50</td>\n",
              "      <td>650</td>\n",
              "      <td>150</td>\n",
              "      <td>20</td>\n",
              "      <td>20</td>\n",
              "    </tr>\n",
              "    <tr>\n",
              "      <th>43</th>\n",
              "      <td>Twisted Fate</td>\n",
              "      <td>Pirate</td>\n",
              "      <td>Sorcerer</td>\n",
              "      <td>NaN</td>\n",
              "      <td>2.0</td>\n",
              "      <td>30</td>\n",
              "      <td>0.75</td>\n",
              "      <td>40</td>\n",
              "      <td>450</td>\n",
              "      <td>50</td>\n",
              "      <td>20</td>\n",
              "      <td>20</td>\n",
              "    </tr>\n",
              "    <tr>\n",
              "      <th>46</th>\n",
              "      <td>Veigar</td>\n",
              "      <td>Yordle</td>\n",
              "      <td>Sorcerer</td>\n",
              "      <td>NaN</td>\n",
              "      <td>3.0</td>\n",
              "      <td>25</td>\n",
              "      <td>0.55</td>\n",
              "      <td>45</td>\n",
              "      <td>500</td>\n",
              "      <td>75</td>\n",
              "      <td>20</td>\n",
              "      <td>20</td>\n",
              "    </tr>\n",
              "  </tbody>\n",
              "</table>\n",
              "</div>"
            ],
            "text/plain": [
              "        Champion   Origin     Class Class2  ...   HP  Mana  Armor  MagicResist\n",
              "1           Ahri     Wild  Sorcerer    NaN  ...  450    75     20           20\n",
              "19       Karthus  Phantom  Sorcerer    NaN  ...  850    85     25           20\n",
              "20      Kassadin     Void  Sorcerer    NaN  ...  550     0     25           20\n",
              "29          Lulu   Yordle  Sorcerer    NaN  ...  500   150     20           20\n",
              "32       Morgana    Demon  Sorcerer    NaN  ...  650   150     20           20\n",
              "43  Twisted Fate   Pirate  Sorcerer    NaN  ...  450    50     20           20\n",
              "46        Veigar   Yordle  Sorcerer    NaN  ...  500    75     20           20\n",
              "\n",
              "[7 rows x 12 columns]"
            ]
          },
          "metadata": {
            "tags": []
          },
          "execution_count": 51
        }
      ]
    },
    {
      "cell_type": "code",
      "metadata": {
        "id": "E-pWXNFL3xTE",
        "colab_type": "code",
        "outputId": "25814726-fdfc-4b88-f7ce-890d342592eb",
        "colab": {
          "base_uri": "https://localhost:8080/",
          "height": 391
        }
      },
      "source": [
        "df_class = tft[tft.Class=='Sorcerer']\n",
        "sns.factorplot(x='Champion', col='Cost', kind='count', data=df_class)"
      ],
      "execution_count": 52,
      "outputs": [
        {
          "output_type": "stream",
          "text": [
            "/usr/local/lib/python3.6/dist-packages/seaborn/categorical.py:3666: UserWarning: The `factorplot` function has been renamed to `catplot`. The original name will be removed in a future release. Please update your code. Note that the default `kind` in `factorplot` (`'point'`) has changed `'strip'` in `catplot`.\n",
            "  warnings.warn(msg)\n"
          ],
          "name": "stderr"
        },
        {
          "output_type": "execute_result",
          "data": {
            "text/plain": [
              "<seaborn.axisgrid.FacetGrid at 0x7f7e8571f550>"
            ]
          },
          "metadata": {
            "tags": []
          },
          "execution_count": 52
        },
        {
          "output_type": "display_data",
          "data": {
            "image/png": "[encoded data removed]",
            "text/plain": [
              "<Figure size 1440x360 with 4 Axes>"
            ]
          },
          "metadata": {
            "tags": [],
            "needs_background": "light"
          }
        }
      ]
    },
    {
      "cell_type": "markdown",
      "metadata": {
        "id": "b84Z3JGf8kG4",
        "colab_type": "text"
      },
      "source": [
        "# Roteiro\n",
        "\n",
        "1. Escolha uma classe de modelo importando do Scikit.\n",
        "2. Escolha os hiperparâmetros do modelo instanciando a classe escolhida em 1.\n",
        "3. Organize os dados em uma *feature matrix* e um *target array*.\n",
        "4. Ajuste o modelo invocando o método **fit()**.\n",
        "5. Aplique o modelo aos novos dados usando **predict()**."
      ]
    },
    {
      "cell_type": "markdown",
      "metadata": {
        "id": "-dYgnYdu9PYz",
        "colab_type": "text"
      },
      "source": [
        "## Naive Bayes"
      ]
    },
    {
      "cell_type": "code",
      "metadata": {
        "id": "KnXiaSuQ9QjS",
        "colab_type": "code",
        "colab": {}
      },
      "source": [
        "from sklearn.naive_bayes import GaussianNB # 1. Escolha do modelo.\n",
        "model = GaussianNB()                       # 2. Escolha dos hiperparâmetros e intanciação."
      ],
      "execution_count": 0,
      "outputs": []
    },
    {
      "cell_type": "code",
      "metadata": {
        "id": "0o7y3VRJ9Vly",
        "colab_type": "code",
        "colab": {
          "base_uri": "https://localhost:8080/",
          "height": 204
        },
        "outputId": "a763b695-a0f4-4f68-958f-94ac2b350c7c"
      },
      "source": [
        "# 3.1 Feature Matrix\n",
        "X_tft = tft.loc[: ,  [\"DamagePerSecond\",\"AttackSpeed\",\"Damage\",\"HP\",\"Mana\",\"Armor\",\"MagicResist\"] ]\n",
        "X_tft.head()"
      ],
      "execution_count": 63,
      "outputs": [
        {
          "output_type": "execute_result",
          "data": {
            "text/html": [
              "<div>\n",
              "<style scoped>\n",
              "    .dataframe tbody tr th:only-of-type {\n",
              "        vertical-align: middle;\n",
              "    }\n",
              "\n",
              "    .dataframe tbody tr th {\n",
              "        vertical-align: top;\n",
              "    }\n",
              "\n",
              "    .dataframe thead th {\n",
              "        text-align: right;\n",
              "    }\n",
              "</style>\n",
              "<table border=\"1\" class=\"dataframe\">\n",
              "  <thead>\n",
              "    <tr style=\"text-align: right;\">\n",
              "      <th></th>\n",
              "      <th>DamagePerSecond</th>\n",
              "      <th>AttackSpeed</th>\n",
              "      <th>Damage</th>\n",
              "      <th>HP</th>\n",
              "      <th>Mana</th>\n",
              "      <th>Armor</th>\n",
              "      <th>MagicResist</th>\n",
              "    </tr>\n",
              "  </thead>\n",
              "  <tbody>\n",
              "    <tr>\n",
              "      <th>0</th>\n",
              "      <td>42</td>\n",
              "      <td>0.65</td>\n",
              "      <td>65</td>\n",
              "      <td>700</td>\n",
              "      <td>75</td>\n",
              "      <td>25</td>\n",
              "      <td>20</td>\n",
              "    </tr>\n",
              "    <tr>\n",
              "      <th>1</th>\n",
              "      <td>28</td>\n",
              "      <td>0.55</td>\n",
              "      <td>50</td>\n",
              "      <td>450</td>\n",
              "      <td>75</td>\n",
              "      <td>20</td>\n",
              "      <td>20</td>\n",
              "    </tr>\n",
              "    <tr>\n",
              "      <th>2</th>\n",
              "      <td>49</td>\n",
              "      <td>0.70</td>\n",
              "      <td>70</td>\n",
              "      <td>650</td>\n",
              "      <td>25</td>\n",
              "      <td>20</td>\n",
              "      <td>20</td>\n",
              "    </tr>\n",
              "    <tr>\n",
              "      <th>3</th>\n",
              "      <td>24</td>\n",
              "      <td>0.60</td>\n",
              "      <td>40</td>\n",
              "      <td>650</td>\n",
              "      <td>100</td>\n",
              "      <td>20</td>\n",
              "      <td>20</td>\n",
              "    </tr>\n",
              "    <tr>\n",
              "      <th>4</th>\n",
              "      <td>46</td>\n",
              "      <td>0.70</td>\n",
              "      <td>65</td>\n",
              "      <td>550</td>\n",
              "      <td>100</td>\n",
              "      <td>20</td>\n",
              "      <td>20</td>\n",
              "    </tr>\n",
              "  </tbody>\n",
              "</table>\n",
              "</div>"
            ],
            "text/plain": [
              "   DamagePerSecond  AttackSpeed  Damage   HP  Mana  Armor  MagicResist\n",
              "0               42         0.65      65  700    75     25           20\n",
              "1               28         0.55      50  450    75     20           20\n",
              "2               49         0.70      70  650    25     20           20\n",
              "3               24         0.60      40  650   100     20           20\n",
              "4               46         0.70      65  550   100     20           20"
            ]
          },
          "metadata": {
            "tags": []
          },
          "execution_count": 63
        }
      ]
    },
    {
      "cell_type": "code",
      "metadata": {
        "id": "VwNdv96J9XF6",
        "colab_type": "code",
        "colab": {
          "base_uri": "https://localhost:8080/",
          "height": 119
        },
        "outputId": "8313c8c0-0d87-46ea-a81e-f25a71ed93bb"
      },
      "source": [
        "# 3.2 Target Array\n",
        "y_tft = tft.Class\n",
        "y_tft.head()"
      ],
      "execution_count": 59,
      "outputs": [
        {
          "output_type": "execute_result",
          "data": {
            "text/plain": [
              "0     Blademaster\n",
              "1        Sorcerer\n",
              "2        Assassin\n",
              "3    Elementalist\n",
              "4    Elementalist\n",
              "Name: Class, dtype: object"
            ]
          },
          "metadata": {
            "tags": []
          },
          "execution_count": 59
        }
      ]
    },
    {
      "cell_type": "code",
      "metadata": {
        "id": "B5uqQpES9bDK",
        "colab_type": "code",
        "colab": {}
      },
      "source": [
        "# 3.3 Separação do Banco de Dados\n",
        "from sklearn.model_selection import train_test_split\n",
        "Xtrain, Xtest, ytrain, ytest = train_test_split(X_tft, y_tft, random_state=2020)"
      ],
      "execution_count": 0,
      "outputs": []
    },
    {
      "cell_type": "code",
      "metadata": {
        "id": "LcD9oxhK9ek6",
        "colab_type": "code",
        "colab": {
          "base_uri": "https://localhost:8080/",
          "height": 34
        },
        "outputId": "cef73a90-10e1-4e6e-e1a3-79e518abf7bc"
      },
      "source": [
        "# 4 Ajuste o modelo aos dados\n",
        "model.fit(Xtrain, ytrain)"
      ],
      "execution_count": 65,
      "outputs": [
        {
          "output_type": "execute_result",
          "data": {
            "text/plain": [
              "GaussianNB(priors=None, var_smoothing=1e-09)"
            ]
          },
          "metadata": {
            "tags": []
          },
          "execution_count": 65
        }
      ]
    },
    {
      "cell_type": "code",
      "metadata": {
        "id": "hJHUOVGE9ggq",
        "colab_type": "code",
        "colab": {}
      },
      "source": [
        "# 5 Faça predições em dados novos\n",
        "y_model = model.predict(Xtest)"
      ],
      "execution_count": 0,
      "outputs": []
    },
    {
      "cell_type": "code",
      "metadata": {
        "id": "R4lMF8XR9h-C",
        "colab_type": "code",
        "colab": {
          "base_uri": "https://localhost:8080/",
          "height": 68
        },
        "outputId": "51a4b6d4-7a27-485b-eb19-5164526c18d8"
      },
      "source": [
        "y_model"
      ],
      "execution_count": 68,
      "outputs": [
        {
          "output_type": "execute_result",
          "data": {
            "text/plain": [
              "array(['Elementalist', 'Assassin', 'Brawler', 'Brawler', 'Gunslinger',\n",
              "       'Gunslinger', 'Elementalist', 'Gunslinger', 'Knight', 'Ranger',\n",
              "       'Brawler', 'Sorcerer', 'Blademaster'], dtype='<U12')"
            ]
          },
          "metadata": {
            "tags": []
          },
          "execution_count": 68
        }
      ]
    },
    {
      "cell_type": "code",
      "metadata": {
        "id": "uqyGwwEFAqsm",
        "colab_type": "code",
        "colab": {
          "base_uri": "https://localhost:8080/",
          "height": 255
        },
        "outputId": "01cd685f-fd50-4dd9-ac4b-486463c10cdf"
      },
      "source": [
        "ytest"
      ],
      "execution_count": 70,
      "outputs": [
        {
          "output_type": "execute_result",
          "data": {
            "text/plain": [
              "46        Sorcerer\n",
              "13        Assassin\n",
              "35        Assassin\n",
              "38          Knight\n",
              "33    Shapeshifter\n",
              "19        Sorcerer\n",
              "12    Shapeshifter\n",
              "0      Blademaster\n",
              "16          Knight\n",
              "43        Sorcerer\n",
              "26        Guardian\n",
              "18      Gunslinger\n",
              "30      Gunslinger\n",
              "Name: Class, dtype: object"
            ]
          },
          "metadata": {
            "tags": []
          },
          "execution_count": 70
        }
      ]
    },
    {
      "cell_type": "code",
      "metadata": {
        "id": "LSLkP4XI9jx8",
        "colab_type": "code",
        "colab": {
          "base_uri": "https://localhost:8080/",
          "height": 34
        },
        "outputId": "e7b005f8-307d-43fa-f6b0-8c16cda9a2c9"
      },
      "source": [
        "from sklearn.metrics import accuracy_score\n",
        "accuracy_score(ytest, y_model)"
      ],
      "execution_count": 71,
      "outputs": [
        {
          "output_type": "execute_result",
          "data": {
            "text/plain": [
              "0.15384615384615385"
            ]
          },
          "metadata": {
            "tags": []
          },
          "execution_count": 71
        }
      ]
    },
    {
      "cell_type": "markdown",
      "metadata": {
        "id": "6SfcJWoG-Bmv",
        "colab_type": "text"
      },
      "source": [
        "## Regressão Logística (Classificação)"
      ]
    },
    {
      "cell_type": "code",
      "metadata": {
        "id": "omI19-es-Dhr",
        "colab_type": "code",
        "colab": {
          "base_uri": "https://localhost:8080/",
          "height": 119
        },
        "outputId": "b05d4227-8780-4d46-eade-7928e4205fab"
      },
      "source": [
        "from sklearn.tree import DecisionTreeClassifier  # 1\n",
        "model_decisiont = DecisionTreeClassifier()       # 2\n",
        "                                                 # 3    \n",
        "model_decisiont.fit(Xtrain, ytrain)              # 4"
      ],
      "execution_count": 73,
      "outputs": [
        {
          "output_type": "execute_result",
          "data": {
            "text/plain": [
              "DecisionTreeClassifier(ccp_alpha=0.0, class_weight=None, criterion='gini',\n",
              "                       max_depth=None, max_features=None, max_leaf_nodes=None,\n",
              "                       min_impurity_decrease=0.0, min_impurity_split=None,\n",
              "                       min_samples_leaf=1, min_samples_split=2,\n",
              "                       min_weight_fraction_leaf=0.0, presort='deprecated',\n",
              "                       random_state=None, splitter='best')"
            ]
          },
          "metadata": {
            "tags": []
          },
          "execution_count": 73
        }
      ]
    },
    {
      "cell_type": "code",
      "metadata": {
        "id": "pHU-11oL-J9L",
        "colab_type": "code",
        "colab": {}
      },
      "source": [
        "# 5 Faça predições em dados novos\n",
        "y_model_decisiont = model_decisiont.predict(Xtest)"
      ],
      "execution_count": 0,
      "outputs": []
    },
    {
      "cell_type": "code",
      "metadata": {
        "id": "EtkqYYab-eJC",
        "colab_type": "code",
        "colab": {
          "base_uri": "https://localhost:8080/",
          "height": 34
        },
        "outputId": "9df664f7-176d-42e1-ee4d-98d2ebe7a7d7"
      },
      "source": [
        "accuracy_score(ytest, y_model_decisiont)"
      ],
      "execution_count": 75,
      "outputs": [
        {
          "output_type": "execute_result",
          "data": {
            "text/plain": [
              "0.3076923076923077"
            ]
          },
          "metadata": {
            "tags": []
          },
          "execution_count": 75
        }
      ]
    },
    {
      "cell_type": "markdown",
      "metadata": {
        "id": "b-3cyFt_B1uJ",
        "colab_type": "text"
      },
      "source": [
        "## Análise dos Resultados (matriz de confusão)"
      ]
    },
    {
      "cell_type": "markdown",
      "metadata": {
        "id": "n3qbnV-jCTB6",
        "colab_type": "text"
      },
      "source": [
        "### Nayve Bayes"
      ]
    },
    {
      "cell_type": "code",
      "metadata": {
        "id": "TC5A2vRGB2Yy",
        "colab_type": "code",
        "colab": {}
      },
      "source": [
        "from sklearn.metrics import confusion_matrix\n",
        "\n",
        "mat_bayes = confusion_matrix(ytest, y_model) "
      ],
      "execution_count": 0,
      "outputs": []
    },
    {
      "cell_type": "code",
      "metadata": {
        "id": "d2vJ5n_6CGa6",
        "colab_type": "code",
        "colab": {
          "base_uri": "https://localhost:8080/",
          "height": 300
        },
        "outputId": "f8dd968f-c03b-40eb-84fa-319a455d91f1"
      },
      "source": [
        "import matplotlib.pyplot as plt\n",
        "\n",
        "sns.heatmap(mat_bayes, square=True, annot = True)\n",
        "plt.xlabel('Valores Preditos')\n",
        "plt.ylabel('Valores Reais')"
      ],
      "execution_count": 77,
      "outputs": [
        {
          "output_type": "execute_result",
          "data": {
            "text/plain": [
              "Text(83.40000000000006, 0.5, 'Valores Reais')"
            ]
          },
          "metadata": {
            "tags": []
          },
          "execution_count": 77
        },
        {
          "output_type": "display_data",
          "data": {
            "image/png": "[encoded data removed]",
            "text/plain": [
              "<Figure size 432x288 with 2 Axes>"
            ]
          },
          "metadata": {
            "tags": [],
            "needs_background": "light"
          }
        }
      ]
    },
    {
      "cell_type": "markdown",
      "metadata": {
        "id": "Vs6cBBJ1CXRj",
        "colab_type": "text"
      },
      "source": [
        "### Decision Tree\n"
      ]
    },
    {
      "cell_type": "code",
      "metadata": {
        "id": "Ob38UOcWCZpS",
        "colab_type": "code",
        "colab": {
          "base_uri": "https://localhost:8080/",
          "height": 300
        },
        "outputId": "e567da54-78ce-4610-8373-805f76bace40"
      },
      "source": [
        "mat_decisiont = confusion_matrix(ytest, y_model_decisiont)\n",
        "sns.heatmap(mat_decisiont, square=True, annot = True)\n",
        "plt.xlabel('Valores Preditos')\n",
        "plt.ylabel('Valores Reais')"
      ],
      "execution_count": 78,
      "outputs": [
        {
          "output_type": "execute_result",
          "data": {
            "text/plain": [
              "Text(83.40000000000006, 0.5, 'Valores Reais')"
            ]
          },
          "metadata": {
            "tags": []
          },
          "execution_count": 78
        },
        {
          "output_type": "display_data",
          "data": {
            "image/png": "[encoded data removed]",
            "text/plain": [
              "<Figure size 432x288 with 2 Axes>"
            ]
          },
          "metadata": {
            "tags": [],
            "needs_background": "light"
          }
        }
      ]
    },
    {
      "cell_type": "markdown",
      "metadata": {
        "id": "cifGUXbwCm-L",
        "colab_type": "text"
      },
      "source": [
        "## Cross-Validation"
      ]
    },
    {
      "cell_type": "code",
      "metadata": {
        "id": "jUiv7qqvCpCa",
        "colab_type": "code",
        "colab": {
          "base_uri": "https://localhost:8080/",
          "height": 88
        },
        "outputId": "b85b6b29-c869-4b16-db49-35ad134b5346"
      },
      "source": [
        "from sklearn.model_selection import cross_val_score\n",
        "\n",
        "from sklearn.neighbors import KNeighborsClassifier\n",
        "model_neighbors = KNeighborsClassifier(n_neighbors=1)\n",
        "cross_val_score(model_neighbors, X_tft, y_tft, cv = 5)"
      ],
      "execution_count": 79,
      "outputs": [
        {
          "output_type": "stream",
          "text": [
            "/usr/local/lib/python3.6/dist-packages/sklearn/model_selection/_split.py:667: UserWarning: The least populated class in y has only 1 members, which is less than n_splits=5.\n",
            "  % (min_groups, self.n_splits)), UserWarning)\n"
          ],
          "name": "stderr"
        },
        {
          "output_type": "execute_result",
          "data": {
            "text/plain": [
              "array([0.18181818, 0.3       , 0.1       , 0.3       , 0.2       ])"
            ]
          },
          "metadata": {
            "tags": []
          },
          "execution_count": 79
        }
      ]
    },
    {
      "cell_type": "code",
      "metadata": {
        "id": "WnGVrVgpCwzK",
        "colab_type": "code",
        "colab": {
          "base_uri": "https://localhost:8080/",
          "height": 88
        },
        "outputId": "b857721b-ce0f-476d-aba0-afae8382d8ee"
      },
      "source": [
        "model_bayes_cv = GaussianNB()                       # 2\n",
        "cross_val_score(model_bayes_cv, X_tft, y_tft, cv = 5)"
      ],
      "execution_count": 83,
      "outputs": [
        {
          "output_type": "stream",
          "text": [
            "/usr/local/lib/python3.6/dist-packages/sklearn/model_selection/_split.py:667: UserWarning: The least populated class in y has only 1 members, which is less than n_splits=5.\n",
            "  % (min_groups, self.n_splits)), UserWarning)\n"
          ],
          "name": "stderr"
        },
        {
          "output_type": "execute_result",
          "data": {
            "text/plain": [
              "array([0.27272727, 0.1       , 0.1       , 0.2       , 0.4       ])"
            ]
          },
          "metadata": {
            "tags": []
          },
          "execution_count": 83
        }
      ]
    },
    {
      "cell_type": "markdown",
      "metadata": {
        "id": "HK0ONVy8DLXu",
        "colab_type": "text"
      },
      "source": [
        "### Leave One Out"
      ]
    },
    {
      "cell_type": "code",
      "metadata": {
        "id": "NdAqk6i_DM7P",
        "colab_type": "code",
        "colab": {}
      },
      "source": [
        "from sklearn.model_selection import LeaveOneOut\n",
        "scores = cross_val_score(model_bayes_cv, X_tft, y_tft, cv=LeaveOneOut())"
      ],
      "execution_count": 0,
      "outputs": []
    },
    {
      "cell_type": "code",
      "metadata": {
        "id": "FTfNXRQ6DSTc",
        "colab_type": "code",
        "colab": {
          "base_uri": "https://localhost:8080/",
          "height": 68
        },
        "outputId": "746dd512-ba31-4cb9-bcf3-2934e379aed0"
      },
      "source": [
        "scores"
      ],
      "execution_count": 85,
      "outputs": [
        {
          "output_type": "execute_result",
          "data": {
            "text/plain": [
              "array([0., 1., 0., 0., 0., 0., 0., 0., 0., 0., 1., 1., 0., 1., 0., 0., 1.,\n",
              "       0., 0., 0., 0., 0., 0., 0., 0., 0., 0., 0., 0., 0., 0., 1., 0., 1.,\n",
              "       1., 0., 0., 1., 0., 0., 0., 0., 0., 0., 0., 0., 1., 0., 1., 1., 1.])"
            ]
          },
          "metadata": {
            "tags": []
          },
          "execution_count": 85
        }
      ]
    },
    {
      "cell_type": "code",
      "metadata": {
        "id": "P3B5eprlDUZz",
        "colab_type": "code",
        "colab": {
          "base_uri": "https://localhost:8080/",
          "height": 34
        },
        "outputId": "70801edd-bfb8-4739-8306-aefb1a2aca27"
      },
      "source": [
        "scores.mean()"
      ],
      "execution_count": 86,
      "outputs": [
        {
          "output_type": "execute_result",
          "data": {
            "text/plain": [
              "0.2549019607843137"
            ]
          },
          "metadata": {
            "tags": []
          },
          "execution_count": 86
        }
      ]
    }
  ]
}