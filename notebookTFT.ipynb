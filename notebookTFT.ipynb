{
  "nbformat": 4,
  "nbformat_minor": 0,
  "metadata": {
    "colab": {
      "name": "ApresentaçãoTFT.ipynb",
      "provenance": []
    },
    "kernelspec": {
      "name": "python3",
      "display_name": "Python 3"
    }
  },
  "cells": [
    {
      "cell_type": "code",
      "metadata": {
        "id": "u_H5P6VLqQAh",
        "colab_type": "code",
        "colab": {
          "base_uri": "https://localhost:8080/",
          "height": 71
        },
        "outputId": "39a8b0c8-03c7-4992-9996-d083e1bae910"
      },
      "source": [
        "import pandas as pd\n",
        "import matplotlib.pyplot as plt\n",
        "import seaborn as sns"
      ],
      "execution_count": 1,
      "outputs": [
        {
          "output_type": "stream",
          "text": [
            "/usr/local/lib/python3.6/dist-packages/statsmodels/tools/_testing.py:19: FutureWarning: pandas.util.testing is deprecated. Use the functions in the public API at pandas.testing instead.\n",
            "  import pandas.util.testing as tm\n"
          ],
          "name": "stderr"
        }
      ]
    },
    {
      "cell_type": "code",
      "metadata": {
        "id": "rjt8bS1pqcwP",
        "colab_type": "code",
        "outputId": "c212e965-3827-471c-b69a-d81dddad70f1",
        "colab": {
          "base_uri": "https://localhost:8080/",
          "height": 204
        }
      },
      "source": [
        "tft = pd.read_csv(\"tft_database.csv\")\n",
        "tft.head()"
      ],
      "execution_count": 44,
      "outputs": [
        {
          "output_type": "execute_result",
          "data": {
            "text/html": [
              "<div>\n",
              "<style scoped>\n",
              "    .dataframe tbody tr th:only-of-type {\n",
              "        vertical-align: middle;\n",
              "    }\n",
              "\n",
              "    .dataframe tbody tr th {\n",
              "        vertical-align: top;\n",
              "    }\n",
              "\n",
              "    .dataframe thead th {\n",
              "        text-align: right;\n",
              "    }\n",
              "</style>\n",
              "<table border=\"1\" class=\"dataframe\">\n",
              "  <thead>\n",
              "    <tr style=\"text-align: right;\">\n",
              "      <th></th>\n",
              "      <th>Champion</th>\n",
              "      <th>Origin</th>\n",
              "      <th>Class</th>\n",
              "      <th>Class2</th>\n",
              "      <th>Cost</th>\n",
              "      <th>DamagePerSecond</th>\n",
              "      <th>AttackSpeed</th>\n",
              "      <th>Damage</th>\n",
              "      <th>HP</th>\n",
              "      <th>Mana</th>\n",
              "      <th>Armor</th>\n",
              "      <th>MagicResist</th>\n",
              "    </tr>\n",
              "  </thead>\n",
              "  <tbody>\n",
              "    <tr>\n",
              "      <th>0</th>\n",
              "      <td>Aatrox</td>\n",
              "      <td>Demon</td>\n",
              "      <td>Blademaster</td>\n",
              "      <td>NaN</td>\n",
              "      <td>3.0</td>\n",
              "      <td>42</td>\n",
              "      <td>0.65</td>\n",
              "      <td>65</td>\n",
              "      <td>700</td>\n",
              "      <td>75</td>\n",
              "      <td>25</td>\n",
              "      <td>20</td>\n",
              "    </tr>\n",
              "    <tr>\n",
              "      <th>1</th>\n",
              "      <td>Ahri</td>\n",
              "      <td>Wild</td>\n",
              "      <td>Sorcerer</td>\n",
              "      <td>NaN</td>\n",
              "      <td>2.0</td>\n",
              "      <td>28</td>\n",
              "      <td>0.55</td>\n",
              "      <td>50</td>\n",
              "      <td>450</td>\n",
              "      <td>75</td>\n",
              "      <td>20</td>\n",
              "      <td>20</td>\n",
              "    </tr>\n",
              "    <tr>\n",
              "      <th>2</th>\n",
              "      <td>Akali</td>\n",
              "      <td>Ninja</td>\n",
              "      <td>Assassin</td>\n",
              "      <td>NaN</td>\n",
              "      <td>4.0</td>\n",
              "      <td>49</td>\n",
              "      <td>0.70</td>\n",
              "      <td>70</td>\n",
              "      <td>650</td>\n",
              "      <td>25</td>\n",
              "      <td>20</td>\n",
              "      <td>20</td>\n",
              "    </tr>\n",
              "    <tr>\n",
              "      <th>3</th>\n",
              "      <td>Anivia</td>\n",
              "      <td>Glacial</td>\n",
              "      <td>Elementalist</td>\n",
              "      <td>NaN</td>\n",
              "      <td>5.0</td>\n",
              "      <td>24</td>\n",
              "      <td>0.60</td>\n",
              "      <td>40</td>\n",
              "      <td>650</td>\n",
              "      <td>100</td>\n",
              "      <td>20</td>\n",
              "      <td>20</td>\n",
              "    </tr>\n",
              "    <tr>\n",
              "      <th>4</th>\n",
              "      <td>Ashe</td>\n",
              "      <td>Glacial</td>\n",
              "      <td>Elementalist</td>\n",
              "      <td>NaN</td>\n",
              "      <td>3.0</td>\n",
              "      <td>46</td>\n",
              "      <td>0.70</td>\n",
              "      <td>65</td>\n",
              "      <td>550</td>\n",
              "      <td>100</td>\n",
              "      <td>20</td>\n",
              "      <td>20</td>\n",
              "    </tr>\n",
              "  </tbody>\n",
              "</table>\n",
              "</div>"
            ],
            "text/plain": [
              "  Champion    Origin         Class Class2  ...   HP  Mana  Armor  MagicResist\n",
              "0   Aatrox     Demon   Blademaster    NaN  ...  700    75     25           20\n",
              "1     Ahri      Wild      Sorcerer    NaN  ...  450    75     20           20\n",
              "2    Akali     Ninja      Assassin    NaN  ...  650    25     20           20\n",
              "3   Anivia  Glacial   Elementalist    NaN  ...  650   100     20           20\n",
              "4     Ashe  Glacial   Elementalist    NaN  ...  550   100     20           20\n",
              "\n",
              "[5 rows x 12 columns]"
            ]
          },
          "metadata": {
            "tags": []
          },
          "execution_count": 44
        }
      ]
    },
    {
      "cell_type": "markdown",
      "metadata": {
        "id": "16gRYEv6vYY6",
        "colab_type": "text"
      },
      "source": [
        "Combinações podem ser feitas por Classe e Origem"
      ]
    },
    {
      "cell_type": "code",
      "metadata": {
        "id": "O7YtPvFf5DXF",
        "colab_type": "code",
        "outputId": "5ee6a5c6-ceb9-4b7f-e991-c74c59e26ed0",
        "colab": {
          "base_uri": "https://localhost:8080/",
          "height": 102
        }
      },
      "source": [
        "tft.Class.describe()"
      ],
      "execution_count": 4,
      "outputs": [
        {
          "output_type": "execute_result",
          "data": {
            "text/plain": [
              "count           51\n",
              "unique          12\n",
              "top       Sorcerer\n",
              "freq             7\n",
              "Name: Class, dtype: object"
            ]
          },
          "metadata": {
            "tags": []
          },
          "execution_count": 4
        }
      ]
    },
    {
      "cell_type": "code",
      "metadata": {
        "id": "Eem5IfQgvSpv",
        "colab_type": "code",
        "colab": {
          "base_uri": "https://localhost:8080/",
          "height": 102
        },
        "outputId": "11dfe6f8-5334-416c-8873-be4d67e333e2"
      },
      "source": [
        "tft.Origin.describe()"
      ],
      "execution_count": 45,
      "outputs": [
        {
          "output_type": "execute_result",
          "data": {
            "text/plain": [
              "count           51\n",
              "unique          13\n",
              "top       Glacial \n",
              "freq             7\n",
              "Name: Origin, dtype: object"
            ]
          },
          "metadata": {
            "tags": []
          },
          "execution_count": 45
        }
      ]
    },
    {
      "cell_type": "markdown",
      "metadata": {
        "id": "ObXrLhNmvgnu",
        "colab_type": "text"
      },
      "source": [
        "É necessário pensar na quantidade de ouro para fazer a composição"
      ]
    },
    {
      "cell_type": "code",
      "metadata": {
        "id": "4cr29CY85ekj",
        "colab_type": "code",
        "outputId": "86422278-2a8c-4397-f6c9-63058d8269db",
        "colab": {
          "base_uri": "https://localhost:8080/",
          "height": 288
        }
      },
      "source": [
        "tft.Cost.value_counts().plot.bar()"
      ],
      "execution_count": 5,
      "outputs": [
        {
          "output_type": "execute_result",
          "data": {
            "text/plain": [
              "<matplotlib.axes._subplots.AxesSubplot at 0x7ff2ddcada90>"
            ]
          },
          "metadata": {
            "tags": []
          },
          "execution_count": 5
        },
        {
          "output_type": "display_data",
          "data": {
            "image/png": "[encoded data removed]",
            "text/plain": [
              "<Figure size 432x288 with 1 Axes>"
            ]
          },
          "metadata": {
            "tags": [],
            "needs_background": "light"
          }
        }
      ]
    },
    {
      "cell_type": "markdown",
      "metadata": {
        "id": "LBSDUtM3ui9M",
        "colab_type": "text"
      },
      "source": [
        "#Gráficos do seaborn"
      ]
    },
    {
      "cell_type": "markdown",
      "metadata": {
        "id": "nNb24O4Qv2VF",
        "colab_type": "text"
      },
      "source": [
        "Os status não são necessariamente proporcionais ao custo"
      ]
    },
    {
      "cell_type": "code",
      "metadata": {
        "id": "yDRpGN_2uq7k",
        "colab_type": "code",
        "outputId": "11d125ae-be5d-4d2b-cfa4-2014a618250f",
        "colab": {
          "base_uri": "https://localhost:8080/",
          "height": 299
        }
      },
      "source": [
        "sns.countplot(x='Armor', data=tft)"
      ],
      "execution_count": 6,
      "outputs": [
        {
          "output_type": "execute_result",
          "data": {
            "text/plain": [
              "<matplotlib.axes._subplots.AxesSubplot at 0x7ff2ddc599b0>"
            ]
          },
          "metadata": {
            "tags": []
          },
          "execution_count": 6
        },
        {
          "output_type": "display_data",
          "data": {
            "image/png": "[encoded data removed]",
            "text/plain": [
              "<Figure size 432x288 with 1 Axes>"
            ]
          },
          "metadata": {
            "tags": [],
            "needs_background": "light"
          }
        }
      ]
    },
    {
      "cell_type": "code",
      "metadata": {
        "id": "UBEOsprQ2mVL",
        "colab_type": "code",
        "outputId": "9953169b-9e7b-4d4c-db40-71474a58d492",
        "colab": {
          "base_uri": "https://localhost:8080/",
          "height": 296
        }
      },
      "source": [
        "sns.countplot(x='Damage', data=tft)"
      ],
      "execution_count": 7,
      "outputs": [
        {
          "output_type": "execute_result",
          "data": {
            "text/plain": [
              "<matplotlib.axes._subplots.AxesSubplot at 0x7ff2dd7278d0>"
            ]
          },
          "metadata": {
            "tags": []
          },
          "execution_count": 7
        },
        {
          "output_type": "display_data",
          "data": {
            "image/png": "[encoded data removed]",
            "text/plain": [
              "<Figure size 432x288 with 1 Axes>"
            ]
          },
          "metadata": {
            "tags": [],
            "needs_background": "light"
          }
        }
      ]
    },
    {
      "cell_type": "code",
      "metadata": {
        "id": "z9G-0L8N25iU",
        "colab_type": "code",
        "outputId": "6a68001d-7b16-43e2-b32e-f7adb050d367",
        "colab": {
          "base_uri": "https://localhost:8080/",
          "height": 296
        }
      },
      "source": [
        "sns.countplot(x='DamagePerSecond', data=tft)"
      ],
      "execution_count": 8,
      "outputs": [
        {
          "output_type": "execute_result",
          "data": {
            "text/plain": [
              "<matplotlib.axes._subplots.AxesSubplot at 0x7ff2dd6ae630>"
            ]
          },
          "metadata": {
            "tags": []
          },
          "execution_count": 8
        },
        {
          "output_type": "display_data",
          "data": {
            "image/png": "[encoded data removed]",
            "text/plain": [
              "<Figure size 432x288 with 1 Axes>"
            ]
          },
          "metadata": {
            "tags": [],
            "needs_background": "light"
          }
        }
      ]
    },
    {
      "cell_type": "code",
      "metadata": {
        "id": "OQLjParVvMC-",
        "colab_type": "code",
        "outputId": "576ac164-c946-4d96-a4a7-05a16d4bf4bd",
        "colab": {
          "base_uri": "https://localhost:8080/",
          "height": 330
        }
      },
      "source": [
        "sns.factorplot(x='HP', col='Cost', kind= 'count', data=tft)"
      ],
      "execution_count": 9,
      "outputs": [
        {
          "output_type": "stream",
          "text": [
            "/usr/local/lib/python3.6/dist-packages/seaborn/categorical.py:3666: UserWarning: The `factorplot` function has been renamed to `catplot`. The original name will be removed in a future release. Please update your code. Note that the default `kind` in `factorplot` (`'point'`) has changed `'strip'` in `catplot`.\n",
            "  warnings.warn(msg)\n"
          ],
          "name": "stderr"
        },
        {
          "output_type": "execute_result",
          "data": {
            "text/plain": [
              "<seaborn.axisgrid.FacetGrid at 0x7ff2ddc14c88>"
            ]
          },
          "metadata": {
            "tags": []
          },
          "execution_count": 9
        },
        {
          "output_type": "display_data",
          "data": {
            "image/png": "[encoded data removed]",
            "text/plain": [
              "<Figure size 1800x360 with 5 Axes>"
            ]
          },
          "metadata": {
            "tags": [],
            "needs_background": "light"
          }
        }
      ]
    },
    {
      "cell_type": "code",
      "metadata": {
        "id": "HwnfYItI2eXA",
        "colab_type": "code",
        "outputId": "b0ea29a6-24c5-48cd-b0f5-1d7fe7ef4715",
        "colab": {
          "base_uri": "https://localhost:8080/",
          "height": 330
        }
      },
      "source": [
        "sns.factorplot(x='Damage', col='Cost', kind= 'count', data=tft)"
      ],
      "execution_count": 10,
      "outputs": [
        {
          "output_type": "stream",
          "text": [
            "/usr/local/lib/python3.6/dist-packages/seaborn/categorical.py:3666: UserWarning: The `factorplot` function has been renamed to `catplot`. The original name will be removed in a future release. Please update your code. Note that the default `kind` in `factorplot` (`'point'`) has changed `'strip'` in `catplot`.\n",
            "  warnings.warn(msg)\n"
          ],
          "name": "stderr"
        },
        {
          "output_type": "execute_result",
          "data": {
            "text/plain": [
              "<seaborn.axisgrid.FacetGrid at 0x7ff2ddbfc278>"
            ]
          },
          "metadata": {
            "tags": []
          },
          "execution_count": 10
        },
        {
          "output_type": "display_data",
          "data": {
            "image/png": "[encoded data removed]",
            "text/plain": [
              "<Figure size 1800x360 with 5 Axes>"
            ]
          },
          "metadata": {
            "tags": [],
            "needs_background": "light"
          }
        }
      ]
    },
    {
      "cell_type": "markdown",
      "metadata": {
        "id": "pd7z2hxbwBmm",
        "colab_type": "text"
      },
      "source": [
        "Fazendo uma combinção"
      ]
    },
    {
      "cell_type": "code",
      "metadata": {
        "id": "1E6wbfZ23EBL",
        "colab_type": "code",
        "outputId": "15f3151c-b8bd-42f2-f325-5a5e16d8abce",
        "colab": {
          "base_uri": "https://localhost:8080/",
          "height": 266
        }
      },
      "source": [
        "df_class = tft[tft.Class=='Sorcerer']\n",
        "df_class"
      ],
      "execution_count": 11,
      "outputs": [
        {
          "output_type": "execute_result",
          "data": {
            "text/html": [
              "<div>\n",
              "<style scoped>\n",
              "    .dataframe tbody tr th:only-of-type {\n",
              "        vertical-align: middle;\n",
              "    }\n",
              "\n",
              "    .dataframe tbody tr th {\n",
              "        vertical-align: top;\n",
              "    }\n",
              "\n",
              "    .dataframe thead th {\n",
              "        text-align: right;\n",
              "    }\n",
              "</style>\n",
              "<table border=\"1\" class=\"dataframe\">\n",
              "  <thead>\n",
              "    <tr style=\"text-align: right;\">\n",
              "      <th></th>\n",
              "      <th>Champion</th>\n",
              "      <th>Origin</th>\n",
              "      <th>Class</th>\n",
              "      <th>Class2</th>\n",
              "      <th>Cost</th>\n",
              "      <th>DamagePerSecond</th>\n",
              "      <th>AttackSpeed</th>\n",
              "      <th>Damage</th>\n",
              "      <th>HP</th>\n",
              "      <th>Mana</th>\n",
              "      <th>Armor</th>\n",
              "      <th>MagicResist</th>\n",
              "    </tr>\n",
              "  </thead>\n",
              "  <tbody>\n",
              "    <tr>\n",
              "      <th>1</th>\n",
              "      <td>Ahri</td>\n",
              "      <td>Wild</td>\n",
              "      <td>Sorcerer</td>\n",
              "      <td>NaN</td>\n",
              "      <td>2.0</td>\n",
              "      <td>28</td>\n",
              "      <td>0.55</td>\n",
              "      <td>50</td>\n",
              "      <td>450</td>\n",
              "      <td>75</td>\n",
              "      <td>20</td>\n",
              "      <td>20</td>\n",
              "    </tr>\n",
              "    <tr>\n",
              "      <th>19</th>\n",
              "      <td>Karthus</td>\n",
              "      <td>Phantom</td>\n",
              "      <td>Sorcerer</td>\n",
              "      <td>NaN</td>\n",
              "      <td>5.0</td>\n",
              "      <td>42</td>\n",
              "      <td>0.65</td>\n",
              "      <td>65</td>\n",
              "      <td>850</td>\n",
              "      <td>85</td>\n",
              "      <td>25</td>\n",
              "      <td>20</td>\n",
              "    </tr>\n",
              "    <tr>\n",
              "      <th>20</th>\n",
              "      <td>Kassadin</td>\n",
              "      <td>Void</td>\n",
              "      <td>Sorcerer</td>\n",
              "      <td>NaN</td>\n",
              "      <td>1.0</td>\n",
              "      <td>33</td>\n",
              "      <td>0.60</td>\n",
              "      <td>55</td>\n",
              "      <td>550</td>\n",
              "      <td>0</td>\n",
              "      <td>25</td>\n",
              "      <td>20</td>\n",
              "    </tr>\n",
              "    <tr>\n",
              "      <th>29</th>\n",
              "      <td>Lulu</td>\n",
              "      <td>Yordle</td>\n",
              "      <td>Sorcerer</td>\n",
              "      <td>NaN</td>\n",
              "      <td>2.0</td>\n",
              "      <td>30</td>\n",
              "      <td>0.60</td>\n",
              "      <td>50</td>\n",
              "      <td>500</td>\n",
              "      <td>150</td>\n",
              "      <td>20</td>\n",
              "      <td>20</td>\n",
              "    </tr>\n",
              "    <tr>\n",
              "      <th>32</th>\n",
              "      <td>Morgana</td>\n",
              "      <td>Demon</td>\n",
              "      <td>Sorcerer</td>\n",
              "      <td>NaN</td>\n",
              "      <td>3.0</td>\n",
              "      <td>30</td>\n",
              "      <td>0.60</td>\n",
              "      <td>50</td>\n",
              "      <td>650</td>\n",
              "      <td>150</td>\n",
              "      <td>20</td>\n",
              "      <td>20</td>\n",
              "    </tr>\n",
              "    <tr>\n",
              "      <th>43</th>\n",
              "      <td>Twisted Fate</td>\n",
              "      <td>Pirate</td>\n",
              "      <td>Sorcerer</td>\n",
              "      <td>NaN</td>\n",
              "      <td>2.0</td>\n",
              "      <td>30</td>\n",
              "      <td>0.75</td>\n",
              "      <td>40</td>\n",
              "      <td>450</td>\n",
              "      <td>50</td>\n",
              "      <td>20</td>\n",
              "      <td>20</td>\n",
              "    </tr>\n",
              "    <tr>\n",
              "      <th>46</th>\n",
              "      <td>Veigar</td>\n",
              "      <td>Yordle</td>\n",
              "      <td>Sorcerer</td>\n",
              "      <td>NaN</td>\n",
              "      <td>3.0</td>\n",
              "      <td>25</td>\n",
              "      <td>0.55</td>\n",
              "      <td>45</td>\n",
              "      <td>500</td>\n",
              "      <td>75</td>\n",
              "      <td>20</td>\n",
              "      <td>20</td>\n",
              "    </tr>\n",
              "  </tbody>\n",
              "</table>\n",
              "</div>"
            ],
            "text/plain": [
              "        Champion   Origin     Class Class2  ...   HP  Mana  Armor  MagicResist\n",
              "1           Ahri     Wild  Sorcerer    NaN  ...  450    75     20           20\n",
              "19       Karthus  Phantom  Sorcerer    NaN  ...  850    85     25           20\n",
              "20      Kassadin     Void  Sorcerer    NaN  ...  550     0     25           20\n",
              "29          Lulu   Yordle  Sorcerer    NaN  ...  500   150     20           20\n",
              "32       Morgana    Demon  Sorcerer    NaN  ...  650   150     20           20\n",
              "43  Twisted Fate   Pirate  Sorcerer    NaN  ...  450    50     20           20\n",
              "46        Veigar   Yordle  Sorcerer    NaN  ...  500    75     20           20\n",
              "\n",
              "[7 rows x 12 columns]"
            ]
          },
          "metadata": {
            "tags": []
          },
          "execution_count": 11
        }
      ]
    },
    {
      "cell_type": "code",
      "metadata": {
        "id": "E-pWXNFL3xTE",
        "colab_type": "code",
        "outputId": "e3ddfdfa-f7b0-455e-c758-a0f75a0ece71",
        "colab": {
          "base_uri": "https://localhost:8080/",
          "height": 391
        }
      },
      "source": [
        "df_class = tft[tft.Class=='Sorcerer']\n",
        "sns.factorplot(x='Champion', col='Cost', kind='count', data=df_class)"
      ],
      "execution_count": 12,
      "outputs": [
        {
          "output_type": "stream",
          "text": [
            "/usr/local/lib/python3.6/dist-packages/seaborn/categorical.py:3666: UserWarning: The `factorplot` function has been renamed to `catplot`. The original name will be removed in a future release. Please update your code. Note that the default `kind` in `factorplot` (`'point'`) has changed `'strip'` in `catplot`.\n",
            "  warnings.warn(msg)\n"
          ],
          "name": "stderr"
        },
        {
          "output_type": "execute_result",
          "data": {
            "text/plain": [
              "<seaborn.axisgrid.FacetGrid at 0x7ff2da975710>"
            ]
          },
          "metadata": {
            "tags": []
          },
          "execution_count": 12
        },
        {
          "output_type": "display_data",
          "data": {
            "image/png": "[encoded data removed]",
            "text/plain": [
              "<Figure size 1440x360 with 4 Axes>"
            ]
          },
          "metadata": {
            "tags": [],
            "needs_background": "light"
          }
        }
      ]
    },
    {
      "cell_type": "markdown",
      "metadata": {
        "id": "b84Z3JGf8kG4",
        "colab_type": "text"
      },
      "source": [
        "# Roteiro\n",
        "\n",
        "1. Escolha uma classe de modelo importando do Scikit.\n",
        "2. Escolha os hiperparâmetros do modelo instanciando a classe escolhida em 1.\n",
        "3. Organize os dados em uma *feature matrix* e um *target array*.\n",
        "4. Ajuste o modelo invocando o método **fit()**.\n",
        "5. Aplique o modelo aos novos dados usando **predict()**."
      ]
    },
    {
      "cell_type": "markdown",
      "metadata": {
        "id": "-dYgnYdu9PYz",
        "colab_type": "text"
      },
      "source": [
        "## Naive Bayes"
      ]
    },
    {
      "cell_type": "code",
      "metadata": {
        "id": "KnXiaSuQ9QjS",
        "colab_type": "code",
        "colab": {}
      },
      "source": [
        "from sklearn.naive_bayes import GaussianNB # 1. Escolha do modelo.\n",
        "model = GaussianNB()                       # 2. Escolha dos hiperparâmetros e intanciação."
      ],
      "execution_count": 0,
      "outputs": []
    },
    {
      "cell_type": "code",
      "metadata": {
        "id": "0o7y3VRJ9Vly",
        "colab_type": "code",
        "outputId": "40842d5d-b694-485f-922f-9b2d006e3d2a",
        "colab": {
          "base_uri": "https://localhost:8080/",
          "height": 204
        }
      },
      "source": [
        "# 3.1 Feature Matrix\n",
        "X_tft = tft.loc[: ,  [\"DamagePerSecond\",\"AttackSpeed\",\"Damage\",\"HP\",\"Mana\",\"Armor\",\"MagicResist\"] ]\n",
        "X_tft.head()"
      ],
      "execution_count": 40,
      "outputs": [
        {
          "output_type": "execute_result",
          "data": {
            "text/html": [
              "<div>\n",
              "<style scoped>\n",
              "    .dataframe tbody tr th:only-of-type {\n",
              "        vertical-align: middle;\n",
              "    }\n",
              "\n",
              "    .dataframe tbody tr th {\n",
              "        vertical-align: top;\n",
              "    }\n",
              "\n",
              "    .dataframe thead th {\n",
              "        text-align: right;\n",
              "    }\n",
              "</style>\n",
              "<table border=\"1\" class=\"dataframe\">\n",
              "  <thead>\n",
              "    <tr style=\"text-align: right;\">\n",
              "      <th></th>\n",
              "      <th>DamagePerSecond</th>\n",
              "      <th>AttackSpeed</th>\n",
              "      <th>Damage</th>\n",
              "      <th>HP</th>\n",
              "      <th>Mana</th>\n",
              "      <th>Armor</th>\n",
              "      <th>MagicResist</th>\n",
              "    </tr>\n",
              "  </thead>\n",
              "  <tbody>\n",
              "    <tr>\n",
              "      <th>0</th>\n",
              "      <td>42</td>\n",
              "      <td>0.65</td>\n",
              "      <td>65</td>\n",
              "      <td>700</td>\n",
              "      <td>75</td>\n",
              "      <td>25</td>\n",
              "      <td>20</td>\n",
              "    </tr>\n",
              "    <tr>\n",
              "      <th>1</th>\n",
              "      <td>28</td>\n",
              "      <td>0.55</td>\n",
              "      <td>50</td>\n",
              "      <td>450</td>\n",
              "      <td>75</td>\n",
              "      <td>20</td>\n",
              "      <td>20</td>\n",
              "    </tr>\n",
              "    <tr>\n",
              "      <th>2</th>\n",
              "      <td>49</td>\n",
              "      <td>0.70</td>\n",
              "      <td>70</td>\n",
              "      <td>650</td>\n",
              "      <td>25</td>\n",
              "      <td>20</td>\n",
              "      <td>20</td>\n",
              "    </tr>\n",
              "    <tr>\n",
              "      <th>3</th>\n",
              "      <td>24</td>\n",
              "      <td>0.60</td>\n",
              "      <td>40</td>\n",
              "      <td>650</td>\n",
              "      <td>100</td>\n",
              "      <td>20</td>\n",
              "      <td>20</td>\n",
              "    </tr>\n",
              "    <tr>\n",
              "      <th>4</th>\n",
              "      <td>46</td>\n",
              "      <td>0.70</td>\n",
              "      <td>65</td>\n",
              "      <td>550</td>\n",
              "      <td>100</td>\n",
              "      <td>20</td>\n",
              "      <td>20</td>\n",
              "    </tr>\n",
              "  </tbody>\n",
              "</table>\n",
              "</div>"
            ],
            "text/plain": [
              "   DamagePerSecond  AttackSpeed  Damage   HP  Mana  Armor  MagicResist\n",
              "0               42         0.65      65  700    75     25           20\n",
              "1               28         0.55      50  450    75     20           20\n",
              "2               49         0.70      70  650    25     20           20\n",
              "3               24         0.60      40  650   100     20           20\n",
              "4               46         0.70      65  550   100     20           20"
            ]
          },
          "metadata": {
            "tags": []
          },
          "execution_count": 40
        }
      ]
    },
    {
      "cell_type": "code",
      "metadata": {
        "id": "VwNdv96J9XF6",
        "colab_type": "code",
        "outputId": "ee5b38c9-3725-4531-baa7-9a51c3159296",
        "colab": {
          "base_uri": "https://localhost:8080/",
          "height": 119
        }
      },
      "source": [
        "# 3.2 Target Array\n",
        "y_tft = tft.Class\n",
        "y_tft.head()"
      ],
      "execution_count": 15,
      "outputs": [
        {
          "output_type": "execute_result",
          "data": {
            "text/plain": [
              "0     Blademaster\n",
              "1        Sorcerer\n",
              "2        Assassin\n",
              "3    Elementalist\n",
              "4    Elementalist\n",
              "Name: Class, dtype: object"
            ]
          },
          "metadata": {
            "tags": []
          },
          "execution_count": 15
        }
      ]
    },
    {
      "cell_type": "code",
      "metadata": {
        "id": "B5uqQpES9bDK",
        "colab_type": "code",
        "colab": {}
      },
      "source": [
        "# 3.3 Separação do Banco de Dados\n",
        "from sklearn.model_selection import train_test_split\n",
        "Xtrain, Xtest, ytrain, ytest = train_test_split(X_tft, y_tft, random_state=2020)"
      ],
      "execution_count": 0,
      "outputs": []
    },
    {
      "cell_type": "code",
      "metadata": {
        "id": "LcD9oxhK9ek6",
        "colab_type": "code",
        "outputId": "77e57f26-64ff-4d60-bdfe-6480ee77dca4",
        "colab": {
          "base_uri": "https://localhost:8080/",
          "height": 34
        }
      },
      "source": [
        "# 4 Ajuste o modelo aos dados\n",
        "model.fit(Xtrain, ytrain)"
      ],
      "execution_count": 18,
      "outputs": [
        {
          "output_type": "execute_result",
          "data": {
            "text/plain": [
              "GaussianNB(priors=None, var_smoothing=1e-09)"
            ]
          },
          "metadata": {
            "tags": []
          },
          "execution_count": 18
        }
      ]
    },
    {
      "cell_type": "code",
      "metadata": {
        "id": "hJHUOVGE9ggq",
        "colab_type": "code",
        "colab": {}
      },
      "source": [
        "# 5 Faça predições em dados novos\n",
        "y_model = model.predict(Xtest)"
      ],
      "execution_count": 0,
      "outputs": []
    },
    {
      "cell_type": "code",
      "metadata": {
        "id": "R4lMF8XR9h-C",
        "colab_type": "code",
        "outputId": "32320921-a893-4bfc-e2f6-f3a7b4c8c70b",
        "colab": {
          "base_uri": "https://localhost:8080/",
          "height": 68
        }
      },
      "source": [
        "y_model"
      ],
      "execution_count": 20,
      "outputs": [
        {
          "output_type": "execute_result",
          "data": {
            "text/plain": [
              "array(['Elementalist', 'Assassin', 'Brawler', 'Brawler', 'Gunslinger',\n",
              "       'Gunslinger', 'Elementalist', 'Gunslinger', 'Knight', 'Ranger',\n",
              "       'Brawler', 'Sorcerer', 'Blademaster'], dtype='<U12')"
            ]
          },
          "metadata": {
            "tags": []
          },
          "execution_count": 20
        }
      ]
    },
    {
      "cell_type": "code",
      "metadata": {
        "id": "uqyGwwEFAqsm",
        "colab_type": "code",
        "outputId": "9bd99e70-bfa9-42f3-8491-958740e9d41e",
        "colab": {
          "base_uri": "https://localhost:8080/",
          "height": 255
        }
      },
      "source": [
        "ytest"
      ],
      "execution_count": 21,
      "outputs": [
        {
          "output_type": "execute_result",
          "data": {
            "text/plain": [
              "46        Sorcerer\n",
              "13        Assassin\n",
              "35        Assassin\n",
              "38          Knight\n",
              "33    Shapeshifter\n",
              "19        Sorcerer\n",
              "12    Shapeshifter\n",
              "0      Blademaster\n",
              "16          Knight\n",
              "43        Sorcerer\n",
              "26        Guardian\n",
              "18      Gunslinger\n",
              "30      Gunslinger\n",
              "Name: Class, dtype: object"
            ]
          },
          "metadata": {
            "tags": []
          },
          "execution_count": 21
        }
      ]
    },
    {
      "cell_type": "code",
      "metadata": {
        "id": "LSLkP4XI9jx8",
        "colab_type": "code",
        "outputId": "8a022dcb-af7d-4509-f1cc-a2dd0c0e4517",
        "colab": {
          "base_uri": "https://localhost:8080/",
          "height": 34
        }
      },
      "source": [
        "from sklearn.metrics import accuracy_score\n",
        "accuracy_score(ytest, y_model)"
      ],
      "execution_count": 34,
      "outputs": [
        {
          "output_type": "execute_result",
          "data": {
            "text/plain": [
              "0.15384615384615385"
            ]
          },
          "metadata": {
            "tags": []
          },
          "execution_count": 34
        }
      ]
    },
    {
      "cell_type": "markdown",
      "metadata": {
        "id": "6SfcJWoG-Bmv",
        "colab_type": "text"
      },
      "source": [
        "## Regressão Logística (Classificação)"
      ]
    },
    {
      "cell_type": "code",
      "metadata": {
        "id": "omI19-es-Dhr",
        "colab_type": "code",
        "outputId": "7760cfdd-8321-42ea-9f2f-e719a978c6b2",
        "colab": {
          "base_uri": "https://localhost:8080/",
          "height": 119
        }
      },
      "source": [
        "from sklearn.tree import DecisionTreeClassifier  # 1\n",
        "model_decisiont = DecisionTreeClassifier()       # 2\n",
        "                                                 # 3    \n",
        "model_decisiont.fit(Xtrain, ytrain)              # 4"
      ],
      "execution_count": 23,
      "outputs": [
        {
          "output_type": "execute_result",
          "data": {
            "text/plain": [
              "DecisionTreeClassifier(ccp_alpha=0.0, class_weight=None, criterion='gini',\n",
              "                       max_depth=None, max_features=None, max_leaf_nodes=None,\n",
              "                       min_impurity_decrease=0.0, min_impurity_split=None,\n",
              "                       min_samples_leaf=1, min_samples_split=2,\n",
              "                       min_weight_fraction_leaf=0.0, presort='deprecated',\n",
              "                       random_state=None, splitter='best')"
            ]
          },
          "metadata": {
            "tags": []
          },
          "execution_count": 23
        }
      ]
    },
    {
      "cell_type": "code",
      "metadata": {
        "id": "pHU-11oL-J9L",
        "colab_type": "code",
        "colab": {}
      },
      "source": [
        "# 5 Faça predições em dados novos\n",
        "y_model_decisiont = model_decisiont.predict(Xtest)"
      ],
      "execution_count": 0,
      "outputs": []
    },
    {
      "cell_type": "code",
      "metadata": {
        "id": "EtkqYYab-eJC",
        "colab_type": "code",
        "outputId": "5dfa194a-253b-47f9-b144-747bef62989a",
        "colab": {
          "base_uri": "https://localhost:8080/",
          "height": 34
        }
      },
      "source": [
        "accuracy_score(ytest, y_model_decisiont)"
      ],
      "execution_count": 25,
      "outputs": [
        {
          "output_type": "execute_result",
          "data": {
            "text/plain": [
              "0.3076923076923077"
            ]
          },
          "metadata": {
            "tags": []
          },
          "execution_count": 25
        }
      ]
    },
    {
      "cell_type": "markdown",
      "metadata": {
        "id": "b-3cyFt_B1uJ",
        "colab_type": "text"
      },
      "source": [
        "## Análise dos Resultados (matriz de confusão)"
      ]
    },
    {
      "cell_type": "markdown",
      "metadata": {
        "id": "n3qbnV-jCTB6",
        "colab_type": "text"
      },
      "source": [
        "### Nayve Bayes"
      ]
    },
    {
      "cell_type": "code",
      "metadata": {
        "id": "TC5A2vRGB2Yy",
        "colab_type": "code",
        "colab": {}
      },
      "source": [
        "from sklearn.metrics import confusion_matrix\n",
        "\n",
        "mat_bayes = confusion_matrix(ytest, y_model) "
      ],
      "execution_count": 0,
      "outputs": []
    },
    {
      "cell_type": "code",
      "metadata": {
        "id": "d2vJ5n_6CGa6",
        "colab_type": "code",
        "outputId": "692c9ae8-39a0-4af7-a990-c3a6cd929af4",
        "colab": {
          "base_uri": "https://localhost:8080/",
          "height": 300
        }
      },
      "source": [
        "import matplotlib.pyplot as plt\n",
        "\n",
        "sns.heatmap(mat_bayes, square=True, annot = True)\n",
        "plt.xlabel('Valores Preditos')\n",
        "plt.ylabel('Valores Reais')"
      ],
      "execution_count": 27,
      "outputs": [
        {
          "output_type": "execute_result",
          "data": {
            "text/plain": [
              "Text(83.40000000000006, 0.5, 'Valores Reais')"
            ]
          },
          "metadata": {
            "tags": []
          },
          "execution_count": 27
        },
        {
          "output_type": "display_data",
          "data": {
            "image/png": "[encoded data removed]",
            "text/plain": [
              "<Figure size 432x288 with 2 Axes>"
            ]
          },
          "metadata": {
            "tags": [],
            "needs_background": "light"
          }
        }
      ]
    },
    {
      "cell_type": "markdown",
      "metadata": {
        "id": "Vs6cBBJ1CXRj",
        "colab_type": "text"
      },
      "source": [
        "### Decision Tree\n"
      ]
    },
    {
      "cell_type": "code",
      "metadata": {
        "id": "Ob38UOcWCZpS",
        "colab_type": "code",
        "outputId": "c230ed83-c98c-41b9-b37c-c26c53242d8c",
        "colab": {
          "base_uri": "https://localhost:8080/",
          "height": 300
        }
      },
      "source": [
        "mat_decisiont = confusion_matrix(ytest, y_model_decisiont)\n",
        "sns.heatmap(mat_decisiont, square=True, annot = True)\n",
        "plt.xlabel('Valores Preditos')\n",
        "plt.ylabel('Valores Reais')"
      ],
      "execution_count": 28,
      "outputs": [
        {
          "output_type": "execute_result",
          "data": {
            "text/plain": [
              "Text(83.40000000000006, 0.5, 'Valores Reais')"
            ]
          },
          "metadata": {
            "tags": []
          },
          "execution_count": 28
        },
        {
          "output_type": "display_data",
          "data": {
            "image/png": "[encoded data removed]",
            "text/plain": [
              "<Figure size 432x288 with 2 Axes>"
            ]
          },
          "metadata": {
            "tags": [],
            "needs_background": "light"
          }
        }
      ]
    },
    {
      "cell_type": "markdown",
      "metadata": {
        "id": "cifGUXbwCm-L",
        "colab_type": "text"
      },
      "source": [
        "## Cross-Validation"
      ]
    },
    {
      "cell_type": "code",
      "metadata": {
        "id": "jUiv7qqvCpCa",
        "colab_type": "code",
        "outputId": "ce4e0912-1fed-45b5-f56b-86ceb43e7194",
        "colab": {
          "base_uri": "https://localhost:8080/",
          "height": 88
        }
      },
      "source": [
        "from sklearn.model_selection import cross_val_score\n",
        "\n",
        "from sklearn.neighbors import KNeighborsClassifier\n",
        "model_neighbors = KNeighborsClassifier(n_neighbors=1)\n",
        "cross_val_score(model_neighbors, X_tft, y_tft, cv = 5)"
      ],
      "execution_count": 29,
      "outputs": [
        {
          "output_type": "stream",
          "text": [
            "/usr/local/lib/python3.6/dist-packages/sklearn/model_selection/_split.py:667: UserWarning: The least populated class in y has only 1 members, which is less than n_splits=5.\n",
            "  % (min_groups, self.n_splits)), UserWarning)\n"
          ],
          "name": "stderr"
        },
        {
          "output_type": "execute_result",
          "data": {
            "text/plain": [
              "array([0.18181818, 0.3       , 0.1       , 0.3       , 0.2       ])"
            ]
          },
          "metadata": {
            "tags": []
          },
          "execution_count": 29
        }
      ]
    },
    {
      "cell_type": "code",
      "metadata": {
        "id": "WnGVrVgpCwzK",
        "colab_type": "code",
        "outputId": "6b2b415b-b4c8-4b0a-c3bb-42787dc88736",
        "colab": {
          "base_uri": "https://localhost:8080/",
          "height": 88
        }
      },
      "source": [
        "model_bayes_cv = GaussianNB()                       # 2\n",
        "cross_val_score(model_bayes_cv, X_tft, y_tft, cv = 5)"
      ],
      "execution_count": 30,
      "outputs": [
        {
          "output_type": "stream",
          "text": [
            "/usr/local/lib/python3.6/dist-packages/sklearn/model_selection/_split.py:667: UserWarning: The least populated class in y has only 1 members, which is less than n_splits=5.\n",
            "  % (min_groups, self.n_splits)), UserWarning)\n"
          ],
          "name": "stderr"
        },
        {
          "output_type": "execute_result",
          "data": {
            "text/plain": [
              "array([0.27272727, 0.1       , 0.1       , 0.2       , 0.4       ])"
            ]
          },
          "metadata": {
            "tags": []
          },
          "execution_count": 30
        }
      ]
    },
    {
      "cell_type": "markdown",
      "metadata": {
        "id": "HK0ONVy8DLXu",
        "colab_type": "text"
      },
      "source": [
        "### Leave One Out"
      ]
    },
    {
      "cell_type": "code",
      "metadata": {
        "id": "NdAqk6i_DM7P",
        "colab_type": "code",
        "colab": {}
      },
      "source": [
        "from sklearn.model_selection import LeaveOneOut\n",
        "scores = cross_val_score(model_bayes_cv, X_tft, y_tft, cv=LeaveOneOut())"
      ],
      "execution_count": 0,
      "outputs": []
    },
    {
      "cell_type": "code",
      "metadata": {
        "id": "FTfNXRQ6DSTc",
        "colab_type": "code",
        "outputId": "6cc6960a-0057-4a05-f6e7-c833038af6e9",
        "colab": {
          "base_uri": "https://localhost:8080/",
          "height": 68
        }
      },
      "source": [
        "scores"
      ],
      "execution_count": 32,
      "outputs": [
        {
          "output_type": "execute_result",
          "data": {
            "text/plain": [
              "array([0., 1., 0., 0., 0., 0., 0., 0., 0., 0., 1., 1., 0., 1., 0., 0., 1.,\n",
              "       0., 0., 0., 0., 0., 0., 0., 0., 0., 0., 0., 0., 0., 0., 1., 0., 1.,\n",
              "       1., 0., 0., 1., 0., 0., 0., 0., 0., 0., 0., 0., 1., 0., 1., 1., 1.])"
            ]
          },
          "metadata": {
            "tags": []
          },
          "execution_count": 32
        }
      ]
    },
    {
      "cell_type": "code",
      "metadata": {
        "id": "P3B5eprlDUZz",
        "colab_type": "code",
        "outputId": "285f77e5-88e1-4d22-827c-996af30c3d30",
        "colab": {
          "base_uri": "https://localhost:8080/",
          "height": 34
        }
      },
      "source": [
        "scores.mean()"
      ],
      "execution_count": 33,
      "outputs": [
        {
          "output_type": "execute_result",
          "data": {
            "text/plain": [
              "0.2549019607843137"
            ]
          },
          "metadata": {
            "tags": []
          },
          "execution_count": 33
        }
      ]
    }
  ]
}